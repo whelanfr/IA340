{
 "cells": [
  {
   "cell_type": "markdown",
   "id": "305726bb",
   "metadata": {},
   "source": [
    "# Collect Tweets in MongoDB"
   ]
  },
  {
   "cell_type": "code",
   "execution_count": 1,
   "id": "b3337c2e",
   "metadata": {},
   "outputs": [
    {
     "name": "stdout",
     "output_type": "stream",
     "text": [
      "Collecting pymongo\n",
      "  Downloading pymongo-3.12.1-cp36-cp36m-manylinux_2_17_x86_64.manylinux2014_x86_64.whl (506 kB)\n",
      "\u001b[K     |████████████████████████████████| 506 kB 42.6 MB/s eta 0:00:01\n",
      "\u001b[?25hInstalling collected packages: pymongo\n",
      "Successfully installed pymongo-3.12.1\n",
      "\u001b[33mWARNING: You are using pip version 21.2.4; however, version 21.3.1 is available.\n",
      "You should consider upgrading via the '/home/ec2-user/anaconda3/envs/python3/bin/python -m pip install --upgrade pip' command.\u001b[0m\n"
     ]
    }
   ],
   "source": [
    "!pip install pymongo"
   ]
  },
  {
   "cell_type": "code",
   "execution_count": 2,
   "id": "bce05365",
   "metadata": {},
   "outputs": [
    {
     "name": "stdout",
     "output_type": "stream",
     "text": [
      "Requirement already satisfied: pymongo[srv] in /home/ec2-user/anaconda3/envs/python3/lib/python3.6/site-packages (3.12.1)\n",
      "Collecting dnspython<3.0.0,>=1.16.0\n",
      "  Downloading dnspython-2.1.0-py3-none-any.whl (241 kB)\n",
      "\u001b[K     |████████████████████████████████| 241 kB 43.3 MB/s eta 0:00:01\n",
      "\u001b[?25hInstalling collected packages: dnspython\n",
      "Successfully installed dnspython-2.1.0\n",
      "\u001b[33mWARNING: You are using pip version 21.2.4; however, version 21.3.1 is available.\n",
      "You should consider upgrading via the '/home/ec2-user/anaconda3/envs/python3/bin/python -m pip install --upgrade pip' command.\u001b[0m\n"
     ]
    }
   ],
   "source": [
    "!pip install pymongo[srv]"
   ]
  },
  {
   "cell_type": "code",
   "execution_count": 3,
   "id": "092fd0bd",
   "metadata": {},
   "outputs": [
    {
     "name": "stdout",
     "output_type": "stream",
     "text": [
      "Requirement already satisfied: dnspython in /home/ec2-user/anaconda3/envs/python3/lib/python3.6/site-packages (2.1.0)\n",
      "\u001b[33mWARNING: You are using pip version 21.2.4; however, version 21.3.1 is available.\n",
      "You should consider upgrading via the '/home/ec2-user/anaconda3/envs/python3/bin/python -m pip install --upgrade pip' command.\u001b[0m\n"
     ]
    }
   ],
   "source": [
    "!pip install dnspython"
   ]
  },
  {
   "cell_type": "code",
   "execution_count": 4,
   "id": "5c8114c1",
   "metadata": {},
   "outputs": [
    {
     "name": "stdout",
     "output_type": "stream",
     "text": [
      "Collecting tweepy\n",
      "  Downloading tweepy-4.3.0-py2.py3-none-any.whl (64 kB)\n",
      "\u001b[K     |████████████████████████████████| 64 kB 3.6 MB/s  eta 0:00:01\n",
      "\u001b[?25hRequirement already satisfied: requests<3,>=2.11.1 in /home/ec2-user/anaconda3/envs/python3/lib/python3.6/site-packages (from tweepy) (2.26.0)\n",
      "Collecting requests-oauthlib<2,>=1.0.0\n",
      "  Downloading requests_oauthlib-1.3.0-py2.py3-none-any.whl (23 kB)\n",
      "Requirement already satisfied: charset-normalizer~=2.0.0 in /home/ec2-user/anaconda3/envs/python3/lib/python3.6/site-packages (from requests<3,>=2.11.1->tweepy) (2.0.6)\n",
      "Requirement already satisfied: certifi>=2017.4.17 in /home/ec2-user/anaconda3/envs/python3/lib/python3.6/site-packages (from requests<3,>=2.11.1->tweepy) (2021.5.30)\n",
      "Requirement already satisfied: urllib3<1.27,>=1.21.1 in /home/ec2-user/anaconda3/envs/python3/lib/python3.6/site-packages (from requests<3,>=2.11.1->tweepy) (1.26.6)\n",
      "Requirement already satisfied: idna<4,>=2.5 in /home/ec2-user/anaconda3/envs/python3/lib/python3.6/site-packages (from requests<3,>=2.11.1->tweepy) (3.1)\n",
      "Collecting oauthlib>=3.0.0\n",
      "  Downloading oauthlib-3.1.1-py2.py3-none-any.whl (146 kB)\n",
      "\u001b[K     |████████████████████████████████| 146 kB 20.6 MB/s eta 0:00:01\n",
      "\u001b[?25hInstalling collected packages: oauthlib, requests-oauthlib, tweepy\n",
      "Successfully installed oauthlib-3.1.1 requests-oauthlib-1.3.0 tweepy-4.3.0\n",
      "\u001b[33mWARNING: You are using pip version 21.2.4; however, version 21.3.1 is available.\n",
      "You should consider upgrading via the '/home/ec2-user/anaconda3/envs/python3/bin/python -m pip install --upgrade pip' command.\u001b[0m\n"
     ]
    }
   ],
   "source": [
    "!pip install tweepy"
   ]
  },
  {
   "cell_type": "code",
   "execution_count": 5,
   "id": "fd368f1d",
   "metadata": {},
   "outputs": [
    {
     "name": "stdout",
     "output_type": "stream",
     "text": [
      "Collecting twitter\n",
      "  Downloading twitter-1.19.3-py2.py3-none-any.whl (50 kB)\n",
      "\u001b[K     |████████████████████████████████| 50 kB 5.7 MB/s  eta 0:00:01\n",
      "\u001b[?25hInstalling collected packages: twitter\n",
      "Successfully installed twitter-1.19.3\n",
      "\u001b[33mWARNING: You are using pip version 21.2.4; however, version 21.3.1 is available.\n",
      "You should consider upgrading via the '/home/ec2-user/anaconda3/envs/python3/bin/python -m pip install --upgrade pip' command.\u001b[0m\n"
     ]
    }
   ],
   "source": [
    "!pip install twitter"
   ]
  },
  {
   "cell_type": "markdown",
   "id": "4093e973",
   "metadata": {},
   "source": [
    "# Import Python Libraries"
   ]
  },
  {
   "cell_type": "code",
   "execution_count": 6,
   "id": "258266f5",
   "metadata": {},
   "outputs": [],
   "source": [
    "import pymongo\n",
    "from pymongo import MongoClient\n",
    "import json\n",
    "import tweepy\n",
    "import twitter\n",
    "from pprint import pprint\n",
    "import configparser\n",
    "import pandas as pd"
   ]
  },
  {
   "cell_type": "markdown",
   "id": "c72bdda6",
   "metadata": {},
   "source": [
    "# Load Authorization Info"
   ]
  },
  {
   "cell_type": "code",
   "execution_count": 11,
   "id": "35b6c717",
   "metadata": {},
   "outputs": [],
   "source": [
    "config = configparser.ConfigParser()\n",
    "config.read('config.ini')\n",
    "\n",
    "CONSUMER_KEY      = config['mytwitter']['api_key']\n",
    "CONSUMER_SECRET   = config['mytwitter']['api_secrete']\n",
    "OAUTH_TOKEN       = config['mytwitter']['access_token']\n",
    "OATH_TOKEN_SECRET = config['mytwitter']['access_secrete']\n",
    "\n",
    "mongod_connect = config['mymongo']['connection']"
   ]
  },
  {
   "cell_type": "code",
   "execution_count": 12,
   "id": "2f560f9e",
   "metadata": {},
   "outputs": [
    {
     "data": {
      "text/plain": [
       "'id_1'"
      ]
     },
     "execution_count": 12,
     "metadata": {},
     "output_type": "execute_result"
    }
   ],
   "source": [
    "client = MongoClient(mongod_connect)\n",
    "db = client.gp25 # use or create a database named demo\n",
    "tweet_collection = db.tweet_collection #use or create a collection named tweet_collection\n",
    "tweet_collection.create_index([(\"id\", pymongo.ASCENDING)],unique = True) # make sure the collected tweets are unique"
   ]
  },
  {
   "cell_type": "markdown",
   "id": "c6bd4cc0",
   "metadata": {},
   "source": [
    "# Use restAPI to collect tweets"
   ]
  },
  {
   "cell_type": "code",
   "execution_count": 13,
   "id": "165e601d",
   "metadata": {},
   "outputs": [],
   "source": [
    "rest_auth = twitter.oauth.OAuth(OAUTH_TOKEN,OATH_TOKEN_SECRET,CONSUMER_KEY,CONSUMER_SECRET)\n",
    "rest_api = twitter.Twitter(auth=rest_auth)"
   ]
  },
  {
   "cell_type": "code",
   "execution_count": 18,
   "id": "db3050d9",
   "metadata": {},
   "outputs": [],
   "source": [
    "\n",
    "count = 100 #number of returned tweets, default and max is 100\n",
    "#geocode = \"38.4392897,-78.9412224,50mi\"  # defin the location, in Harrisonburg, VA\n",
    "q = \"covid19\"                               #define the keywords, tweets contain election"
   ]
  },
  {
   "cell_type": "code",
   "execution_count": 24,
   "id": "92d67f85",
   "metadata": {},
   "outputs": [
    {
     "name": "stdout",
     "output_type": "stream",
     "text": [
      "'Thu Nov 04 19:19:50 +0000 2021'\n",
      "'Thu Nov 04 19:19:50 +0000 2021'\n",
      "'Thu Nov 04 19:19:49 +0000 2021'\n",
      "'Thu Nov 04 19:19:49 +0000 2021'\n",
      "'Thu Nov 04 19:19:49 +0000 2021'\n",
      "'Thu Nov 04 19:19:47 +0000 2021'\n",
      "'Thu Nov 04 19:19:46 +0000 2021'\n",
      "'Thu Nov 04 19:19:46 +0000 2021'\n",
      "'Thu Nov 04 19:19:46 +0000 2021'\n",
      "'Thu Nov 04 19:19:46 +0000 2021'\n",
      "'Thu Nov 04 19:19:46 +0000 2021'\n",
      "'Thu Nov 04 19:19:45 +0000 2021'\n",
      "'Thu Nov 04 19:19:45 +0000 2021'\n",
      "'Thu Nov 04 19:19:43 +0000 2021'\n",
      "'Thu Nov 04 19:19:42 +0000 2021'\n",
      "'Thu Nov 04 19:19:42 +0000 2021'\n",
      "'Thu Nov 04 19:19:42 +0000 2021'\n",
      "'Thu Nov 04 19:19:40 +0000 2021'\n",
      "'Thu Nov 04 19:19:40 +0000 2021'\n",
      "'Thu Nov 04 19:19:40 +0000 2021'\n",
      "'Thu Nov 04 19:19:39 +0000 2021'\n",
      "'Thu Nov 04 19:19:39 +0000 2021'\n",
      "'Thu Nov 04 19:19:38 +0000 2021'\n",
      "'Thu Nov 04 19:19:37 +0000 2021'\n",
      "'Thu Nov 04 19:19:36 +0000 2021'\n",
      "'Thu Nov 04 19:19:34 +0000 2021'\n",
      "'Thu Nov 04 19:19:33 +0000 2021'\n",
      "'Thu Nov 04 19:19:33 +0000 2021'\n",
      "'Thu Nov 04 19:19:32 +0000 2021'\n",
      "'Thu Nov 04 19:19:32 +0000 2021'\n",
      "'Thu Nov 04 19:19:32 +0000 2021'\n",
      "'Thu Nov 04 19:19:32 +0000 2021'\n",
      "'Thu Nov 04 19:19:32 +0000 2021'\n",
      "'Thu Nov 04 19:19:31 +0000 2021'\n",
      "'Thu Nov 04 19:19:31 +0000 2021'\n",
      "'Thu Nov 04 19:19:30 +0000 2021'\n",
      "'Thu Nov 04 19:19:30 +0000 2021'\n",
      "'Thu Nov 04 19:19:28 +0000 2021'\n",
      "'Thu Nov 04 19:19:28 +0000 2021'\n",
      "'Thu Nov 04 19:19:27 +0000 2021'\n",
      "'Thu Nov 04 19:19:27 +0000 2021'\n",
      "'Thu Nov 04 19:19:26 +0000 2021'\n",
      "'Thu Nov 04 19:19:25 +0000 2021'\n",
      "'Thu Nov 04 19:19:24 +0000 2021'\n",
      "'Thu Nov 04 19:19:23 +0000 2021'\n",
      "'Thu Nov 04 19:19:22 +0000 2021'\n",
      "'Thu Nov 04 19:19:22 +0000 2021'\n",
      "'Thu Nov 04 19:19:22 +0000 2021'\n",
      "'Thu Nov 04 19:19:20 +0000 2021'\n",
      "'Thu Nov 04 19:19:18 +0000 2021'\n",
      "'Thu Nov 04 19:19:18 +0000 2021'\n",
      "'Thu Nov 04 19:19:18 +0000 2021'\n",
      "'Thu Nov 04 19:19:18 +0000 2021'\n",
      "'Thu Nov 04 19:19:18 +0000 2021'\n",
      "'Thu Nov 04 19:19:17 +0000 2021'\n",
      "'Thu Nov 04 19:19:17 +0000 2021'\n",
      "'Thu Nov 04 19:19:17 +0000 2021'\n",
      "'Thu Nov 04 19:19:17 +0000 2021'\n",
      "'Thu Nov 04 19:19:16 +0000 2021'\n",
      "'Thu Nov 04 19:19:16 +0000 2021'\n",
      "'Thu Nov 04 19:19:14 +0000 2021'\n",
      "'Thu Nov 04 19:19:13 +0000 2021'\n",
      "'Thu Nov 04 19:19:11 +0000 2021'\n",
      "'Thu Nov 04 19:19:11 +0000 2021'\n",
      "'Thu Nov 04 19:19:11 +0000 2021'\n",
      "'Thu Nov 04 19:19:11 +0000 2021'\n",
      "'Thu Nov 04 19:19:10 +0000 2021'\n",
      "'Thu Nov 04 19:19:08 +0000 2021'\n",
      "'Thu Nov 04 19:19:07 +0000 2021'\n",
      "'Thu Nov 04 19:19:06 +0000 2021'\n",
      "'Thu Nov 04 19:19:06 +0000 2021'\n",
      "'Thu Nov 04 19:19:05 +0000 2021'\n",
      "'Thu Nov 04 19:19:05 +0000 2021'\n",
      "'Thu Nov 04 19:19:04 +0000 2021'\n",
      "'Thu Nov 04 19:19:04 +0000 2021'\n",
      "'Thu Nov 04 19:19:04 +0000 2021'\n",
      "'Thu Nov 04 19:19:04 +0000 2021'\n",
      "'Thu Nov 04 19:19:04 +0000 2021'\n",
      "'Thu Nov 04 19:19:01 +0000 2021'\n",
      "'Thu Nov 04 19:19:01 +0000 2021'\n",
      "'Thu Nov 04 19:19:00 +0000 2021'\n",
      "'Thu Nov 04 19:19:00 +0000 2021'\n",
      "'Thu Nov 04 19:19:00 +0000 2021'\n",
      "'Thu Nov 04 19:18:59 +0000 2021'\n",
      "'Thu Nov 04 19:18:58 +0000 2021'\n",
      "'Thu Nov 04 19:18:58 +0000 2021'\n",
      "'Thu Nov 04 19:18:58 +0000 2021'\n",
      "'Thu Nov 04 19:18:57 +0000 2021'\n",
      "'Thu Nov 04 19:18:56 +0000 2021'\n",
      "'Thu Nov 04 19:18:55 +0000 2021'\n",
      "'Thu Nov 04 19:18:55 +0000 2021'\n",
      "'Thu Nov 04 19:18:55 +0000 2021'\n",
      "'Thu Nov 04 19:18:54 +0000 2021'\n",
      "'Thu Nov 04 19:18:54 +0000 2021'\n",
      "'Thu Nov 04 19:18:54 +0000 2021'\n",
      "'Thu Nov 04 19:18:53 +0000 2021'\n",
      "'Thu Nov 04 19:18:53 +0000 2021'\n",
      "'Thu Nov 04 19:18:53 +0000 2021'\n",
      "'Thu Nov 04 19:18:52 +0000 2021'\n",
      "'Thu Nov 04 19:18:52 +0000 2021'\n"
     ]
    }
   ],
   "source": [
    "search_results = rest_api.search.tweets( count=count,q=q) #you can use both q and geocode\n",
    "statuses = search_results[\"statuses\"]\n",
    "since_id_new = statuses[-1]['id']\n",
    "for statuse in statuses:\n",
    "    try:\n",
    "        tweet_collection.insert_one(statuse)\n",
    "        pprint(statuse['created_at'])# print the date of the collected tweets\n",
    "    except:\n",
    "        pass"
   ]
  },
  {
   "cell_type": "code",
   "execution_count": 26,
   "id": "5667b661",
   "metadata": {},
   "outputs": [],
   "source": [
    "since_id_old = 0\n",
    "while(since_id_new != since_id_old):\n",
    "    since_id_old = since_id_new\n",
    "    search_results = rest_api.search.tweets( count=count,q=q,\n",
    "                        geocode=geocode, max_id= since_id_new)\n",
    "    statuses = search_results[\"statuses\"]\n",
    "    since_id_new = statuses[-1]['id']\n",
    "    for statuse in statuses:\n",
    "        try:\n",
    "            tweet_collection.insert_one(statuse)\n",
    "            pprint(statuse['created_at']) # print the date of the collected tweets\n",
    "        except:\n",
    "            pass"
   ]
  },
  {
   "cell_type": "markdown",
   "id": "c413fd80",
   "metadata": {},
   "source": [
    "# View collected tweets"
   ]
  },
  {
   "cell_type": "code",
   "execution_count": 27,
   "id": "25428b2a",
   "metadata": {},
   "outputs": [
    {
     "name": "stdout",
     "output_type": "stream",
     "text": [
      "424\n",
      "323\n"
     ]
    }
   ],
   "source": [
    "print(tweet_collection.estimated_document_count())# number of tweets collected\n",
    "\n",
    "user_cursor = tweet_collection.distinct(\"user.id\")\n",
    "print (len(user_cursor)) # number of unique Twitter users"
   ]
  },
  {
   "cell_type": "code",
   "execution_count": null,
   "id": "c9e8d2cd",
   "metadata": {},
   "outputs": [],
   "source": []
  }
 ],
 "metadata": {
  "kernelspec": {
   "display_name": "conda_python3",
   "language": "python",
   "name": "conda_python3"
  },
  "language_info": {
   "codemirror_mode": {
    "name": "ipython",
    "version": 3
   },
   "file_extension": ".py",
   "mimetype": "text/x-python",
   "name": "python",
   "nbconvert_exporter": "python",
   "pygments_lexer": "ipython3",
   "version": "3.6.13"
  }
 },
 "nbformat": 4,
 "nbformat_minor": 5
}
